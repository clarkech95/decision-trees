{
 "cells": [
  {
   "cell_type": "markdown",
   "metadata": {},
   "source": [
    "### Student Name: "
   ]
  },
  {
   "cell_type": "code",
   "execution_count": null,
   "metadata": {},
   "outputs": [],
   "source": [
    "#import the required modules\n",
    "import pandas as pd\n",
    "from sklearn.tree import DecisionTreeClassifier \n",
    "from sklearn.model_selection import train_test_split \n",
    "from sklearn import metrics "
   ]
  },
  {
   "cell_type": "markdown",
   "metadata": {},
   "source": [
    "### Step 1 – Load the data and extract the features"
   ]
  },
  {
   "cell_type": "code",
   "execution_count": null,
   "metadata": {},
   "outputs": [],
   "source": [
    "features = ['VendorID', 'RatecodeID', 'PULocationID', 'DOLocationID', 'passenger_count', \n",
    "            'trip_distance', 'fare_amount', 'extra', 'mta_tax', 'tolls_amount', \n",
    "            'improvement_surcharge', 'total_amount', 'trip_type', 'congestion_surcharge', 'tip']\n",
    "\n",
    "file_path = '' #TODO: provide the file path or URL to the dataset `trip_data.csv`\n",
    "df = pd.read_csv(file_path, usecols=features)\n",
    "\n",
    "#after the data is loaded in the dataframe, you would normally perform preliminary analysis to verify the data.\n",
    "# For example, using df.head() and df.describe() but you can skip that step for now. \n",
    "\n",
    "#assign the input features to a variable called 'X' and the labels in a variable called 'y'\n",
    "X = df.iloc[:,0:14].to_numpy() #input features\n",
    "y = df.iloc[:,14].tolist() #labels"
   ]
  },
  {
   "cell_type": "markdown",
   "metadata": {},
   "source": [
    "### Step 2 – Split the data\n",
    "Hint: use the [train_test_split](https://scikit-learn.org/stable/modules/generated/sklearn.model_selection.train_test_split.html) method from scikit-learn."
   ]
  },
  {
   "cell_type": "code",
   "execution_count": null,
   "metadata": {},
   "outputs": [],
   "source": [
    "seed = #TODO: provide an integer for the random number generator.\n",
    "\n",
    "#Split the dataset into training set and test set\n",
    "X_train, X_test, y_train, y_test = train_test_split(X, y,\n",
    "                                                    test_size = , #TODO: provide the test_size (refer to the instructions for the assignment)\n",
    "                                                    random_state = seed, #seed the random generator for reproducibilty\n",
    "                                                    stratify = #TODO: provide the variable\n",
    "                                                   )\n",
    "\n",
    "#Note: X_train and y_train are the input features and labels for the training set respectively.\n",
    "#Note: X_test and y_test are the input features and labels for the test set respectively."
   ]
  },
  {
   "cell_type": "markdown",
   "metadata": {},
   "source": [
    "### Step 3 - Create the decision tree\n",
    "Hint: use the [DecisionTreeClassifier](https://scikit-learn.org/stable/modules/generated/sklearn.tree.DecisionTreeClassifier.html#sklearn.tree.DecisionTreeClassifier) in scikit-learn. Here is an example on how to use build a [decision tree for classification](https://scikit-learn.org/stable/modules/tree.html#classification)."
   ]
  },
  {
   "cell_type": "code",
   "execution_count": null,
   "metadata": {},
   "outputs": [],
   "source": [
    "#Instantiate the Decision Tree Classifier object \n",
    "dt_classifier = DecisionTreeClassifier(criterion= , #TODO: choose either 'gini' or 'entropy'\n",
    "                                       max_depth= #TODO: set the value (refer to the instructions above)\n",
    "                                      )\n",
    "\n",
    "#TODO: Train Decision Tree Classifier using the `fit` method\n",
    "\n",
    "\n",
    "#TODO: Make predictions with `X_test` and store the result in a variable called `y_pred`\n"
   ]
  },
  {
   "cell_type": "markdown",
   "metadata": {},
   "source": [
    "#### Evaluate the prediction accuracy\n",
    "Hint: use the [accuracy_score](https://scikit-learn.org/stable/modules/generated/sklearn.metrics.accuracy_score.html#sklearn.metrics.accuracy_score) to determine how many observations were classified correctly. Use `y_test` and `y_pred` for the calculations."
   ]
  },
  {
   "cell_type": "code",
   "execution_count": null,
   "metadata": {},
   "outputs": [],
   "source": [
    "#TODO: calculate and display the accuracy score using `y_test` and `y_pred`\n"
   ]
  },
  {
   "cell_type": "markdown",
   "metadata": {},
   "source": [
    "### Step 4 - Visualize the decision tree\n",
    "Hint: use the export_graphviz method. An [example is shown here](https://scikit-learn.org/stable/modules/tree.html#classification). Alternatively, you may use your preferred library/tool to display the tree."
   ]
  },
  {
   "cell_type": "code",
   "execution_count": null,
   "metadata": {},
   "outputs": [],
   "source": [
    "#TODO: Display the decision tree\n"
   ]
  },
  {
   "cell_type": "markdown",
   "metadata": {},
   "source": [
    "### Summarize the results using one paragraph (2-5 sentences)"
   ]
  },
  {
   "cell_type": "code",
   "execution_count": null,
   "metadata": {},
   "outputs": [],
   "source": []
  }
 ],
 "metadata": {
  "kernelspec": {
   "display_name": "Python 3",
   "language": "python",
   "name": "python3"
  },
  "language_info": {
   "codemirror_mode": {
    "name": "ipython",
    "version": 3
   },
   "file_extension": ".py",
   "mimetype": "text/x-python",
   "name": "python",
   "nbconvert_exporter": "python",
   "pygments_lexer": "ipython3",
   "version": "3.7.4"
  }
 },
 "nbformat": 4,
 "nbformat_minor": 2
}
